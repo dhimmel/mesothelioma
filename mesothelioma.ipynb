{
 "cells": [
  {
   "cell_type": "markdown",
   "metadata": {},
   "source": [
    "# Mesothelioma data visualization"
   ]
  },
  {
   "cell_type": "code",
   "execution_count": 1,
   "metadata": {},
   "outputs": [],
   "source": [
    "import io\n",
    "import pathlib\n",
    "import re\n",
    "\n",
    "import geopandas\n",
    "import geoplot\n",
    "import matplotlib\n",
    "import pandas"
   ]
  },
  {
   "cell_type": "markdown",
   "metadata": {},
   "source": [
    "## Read United States state geometry data"
   ]
  },
  {
   "cell_type": "code",
   "execution_count": 2,
   "metadata": {},
   "outputs": [],
   "source": [
    "try:\n",
    "    from quilt.data.ResidentMario import geoplot_data\n",
    "except ModuleNotFoundError:\n",
    "    # Install data from https://quiltdata.com/package/ResidentMario/geoplot_data\n",
    "    import quilt\n",
    "    quilt.install(\n",
    "        package='ResidentMario/geoplot_data',\n",
    "        hash='1f5c34c8e6afdaef0b73b1e3681855fa91b1bdd677b98550b0ce0402a344026f',\n",
    "    )\n",
    "    from quilt.data.ResidentMario import geoplot_data"
   ]
  },
  {
   "cell_type": "code",
   "execution_count": 3,
   "metadata": {},
   "outputs": [
    {
     "data": {
      "text/html": [
       "<div>\n",
       "<style scoped>\n",
       "    .dataframe tbody tr th:only-of-type {\n",
       "        vertical-align: middle;\n",
       "    }\n",
       "\n",
       "    .dataframe tbody tr th {\n",
       "        vertical-align: top;\n",
       "    }\n",
       "\n",
       "    .dataframe thead th {\n",
       "        text-align: right;\n",
       "    }\n",
       "</style>\n",
       "<table border=\"1\" class=\"dataframe\">\n",
       "  <thead>\n",
       "    <tr style=\"text-align: right;\">\n",
       "      <th></th>\n",
       "      <th>id</th>\n",
       "      <th>adm1_code</th>\n",
       "      <th>geometry</th>\n",
       "      <th>State</th>\n",
       "    </tr>\n",
       "  </thead>\n",
       "  <tbody>\n",
       "    <tr>\n",
       "      <th>0</th>\n",
       "      <td>0</td>\n",
       "      <td>USA-3514</td>\n",
       "      <td>POLYGON ((-89.59940899999999 48.010274, -89.48...</td>\n",
       "      <td>Minnesota</td>\n",
       "    </tr>\n",
       "    <tr>\n",
       "      <th>1</th>\n",
       "      <td>1</td>\n",
       "      <td>USA-3515</td>\n",
       "      <td>POLYGON ((-111.194189 44.561156, -111.291548 4...</td>\n",
       "      <td>Montana</td>\n",
       "    </tr>\n",
       "  </tbody>\n",
       "</table>\n",
       "</div>"
      ],
      "text/plain": [
       "  id adm1_code                                           geometry      State\n",
       "0  0  USA-3514  POLYGON ((-89.59940899999999 48.010274, -89.48...  Minnesota\n",
       "1  1  USA-3515  POLYGON ((-111.194189 44.561156, -111.291548 4...    Montana"
      ]
     },
     "execution_count": 3,
     "metadata": {},
     "output_type": "execute_result"
    }
   ],
   "source": [
    "contiguous_usa = geopandas.read_file(geoplot_data.contiguous_usa())\n",
    "# From https://residentmario.github.io/geoplot/examples/nyc-parking-tickets.html\n",
    "contiguous_usa['State'] = [\n",
    "    'Minnesota', 'Montana', 'North Dakota', 'Idaho', 'Washington', 'Arizona',\n",
    "    'California', 'Colorado', 'Nevada', 'New Mexico', 'Oregon', 'Utah', 'Wyoming',\n",
    "    'Arkansas', 'Iowa', 'Kansas', 'Missouri', 'Nebraska', 'Oklahoma', 'South Dakota',\n",
    "    'Louisiana', 'Texas', 'Connecticut', 'Massachusetts', 'New Hampshire',\n",
    "    'Rhode Island', 'Vermont', 'Alabama', 'Florida', 'Georgia', 'Mississippi',\n",
    "    'South Carolina', 'Illinois', 'Indiana', 'Kentucky', 'North Carolina', 'Ohio',\n",
    "    'Tennessee', 'Virginia', 'Wisconsin', 'West Virginia', 'Delaware', 'District of Columbia',\n",
    "    'Maryland', 'New Jersey', 'New York', 'Pennsylvania', 'Maine', 'Michigan',\n",
    "]\n",
    "\n",
    "contiguous_usa.head(2)"
   ]
  },
  {
   "cell_type": "markdown",
   "metadata": {},
   "source": [
    "### Read CDC Wonder mortality data"
   ]
  },
  {
   "cell_type": "code",
   "execution_count": 4,
   "metadata": {},
   "outputs": [
    {
     "data": {
      "text/html": [
       "<div>\n",
       "<style scoped>\n",
       "    .dataframe tbody tr th:only-of-type {\n",
       "        vertical-align: middle;\n",
       "    }\n",
       "\n",
       "    .dataframe tbody tr th {\n",
       "        vertical-align: top;\n",
       "    }\n",
       "\n",
       "    .dataframe thead th {\n",
       "        text-align: right;\n",
       "    }\n",
       "</style>\n",
       "<table border=\"1\" class=\"dataframe\">\n",
       "  <thead>\n",
       "    <tr style=\"text-align: right;\">\n",
       "      <th></th>\n",
       "      <th>Notes</th>\n",
       "      <th>State</th>\n",
       "      <th>State Code</th>\n",
       "      <th>Deaths</th>\n",
       "      <th>Population</th>\n",
       "      <th>Age-Adjusted Rate</th>\n",
       "      <th>Age-Adjusted Rate Lower 95% Confidence Interval</th>\n",
       "      <th>Age-Adjusted Rate Upper 95% Confidence Interval</th>\n",
       "      <th>Age-Adjusted Rate Standard Error</th>\n",
       "      <th>Crude Rate</th>\n",
       "      <th>Crude Rate Lower 95% Confidence Interval</th>\n",
       "      <th>Crude Rate Upper 95% Confidence Interval</th>\n",
       "      <th>Crude Rate Standard Error</th>\n",
       "    </tr>\n",
       "  </thead>\n",
       "  <tbody>\n",
       "    <tr>\n",
       "      <th>49</th>\n",
       "      <td>NaN</td>\n",
       "      <td>Wisconsin</td>\n",
       "      <td>55</td>\n",
       "      <td>1013</td>\n",
       "      <td>89226178</td>\n",
       "      <td>1.04022</td>\n",
       "      <td>0.97677</td>\n",
       "      <td>1.10678</td>\n",
       "      <td>0.03288</td>\n",
       "      <td>1.13532</td>\n",
       "      <td>1.06647</td>\n",
       "      <td>1.20744</td>\n",
       "      <td>0.03567</td>\n",
       "    </tr>\n",
       "    <tr>\n",
       "      <th>50</th>\n",
       "      <td>NaN</td>\n",
       "      <td>Wyoming</td>\n",
       "      <td>56</td>\n",
       "      <td>102</td>\n",
       "      <td>8547706</td>\n",
       "      <td>1.16936</td>\n",
       "      <td>0.95122</td>\n",
       "      <td>1.42270</td>\n",
       "      <td>0.11706</td>\n",
       "      <td>1.19330</td>\n",
       "      <td>0.97299</td>\n",
       "      <td>1.44859</td>\n",
       "      <td>0.11815</td>\n",
       "    </tr>\n",
       "    <tr>\n",
       "      <th>51</th>\n",
       "      <td>Total</td>\n",
       "      <td>NaN</td>\n",
       "      <td>NaN</td>\n",
       "      <td>40096</td>\n",
       "      <td>4793002373</td>\n",
       "      <td>0.80698</td>\n",
       "      <td>0.79906</td>\n",
       "      <td>0.81495</td>\n",
       "      <td>0.00405</td>\n",
       "      <td>0.83655</td>\n",
       "      <td>0.82838</td>\n",
       "      <td>0.84478</td>\n",
       "      <td>0.00418</td>\n",
       "    </tr>\n",
       "  </tbody>\n",
       "</table>\n",
       "</div>"
      ],
      "text/plain": [
       "    Notes      State State Code  Deaths  Population  Age-Adjusted Rate  \\\n",
       "49    NaN  Wisconsin         55    1013    89226178            1.04022   \n",
       "50    NaN    Wyoming         56     102     8547706            1.16936   \n",
       "51  Total        NaN        NaN   40096  4793002373            0.80698   \n",
       "\n",
       "    Age-Adjusted Rate Lower 95% Confidence Interval  \\\n",
       "49                                          0.97677   \n",
       "50                                          0.95122   \n",
       "51                                          0.79906   \n",
       "\n",
       "    Age-Adjusted Rate Upper 95% Confidence Interval  \\\n",
       "49                                          1.10678   \n",
       "50                                          1.42270   \n",
       "51                                          0.81495   \n",
       "\n",
       "    Age-Adjusted Rate Standard Error  Crude Rate  \\\n",
       "49                           0.03288     1.13532   \n",
       "50                           0.11706     1.19330   \n",
       "51                           0.00405     0.83655   \n",
       "\n",
       "    Crude Rate Lower 95% Confidence Interval  \\\n",
       "49                                   1.06647   \n",
       "50                                   0.97299   \n",
       "51                                   0.82838   \n",
       "\n",
       "    Crude Rate Upper 95% Confidence Interval  Crude Rate Standard Error  \n",
       "49                                   1.20744                    0.03567  \n",
       "50                                   1.44859                    0.11815  \n",
       "51                                   0.84478                    0.00418  "
      ]
     },
     "execution_count": 4,
     "metadata": {},
     "output_type": "execute_result"
    }
   ],
   "source": [
    "path = pathlib.Path('data/mortality.txt')\n",
    "tsv, *docs = re.split(r'^\"---\"$', path.read_text(), flags=re.MULTILINE)\n",
    "mortality_df = pandas.read_table(io.StringIO(tsv), dtype={'State Code': str})\n",
    "mortality_df.tail(3)"
   ]
  },
  {
   "cell_type": "code",
   "execution_count": 5,
   "metadata": {
    "scrolled": true
   },
   "outputs": [
    {
     "data": {
      "image/png": "[encoded data removed]",
      "text/plain": [
       "<matplotlib.figure.Figure at 0x7fe5588880b8>"
      ]
     },
     "metadata": {},
     "output_type": "display_data"
    }
   ],
   "source": [
    "# https://residentmario.github.io/geoplot/choropleth.html\n",
    "plot = geoplot.choropleth(\n",
    "    contiguous_usa.merge(mortality_df),\n",
    "    hue='Age-Adjusted Rate',\n",
    "    projection=geoplot.crs.AlbersEqualArea(),\n",
    "    cmap='viridis',\n",
    "    linewidth=0.5,\n",
    "    edgecolor='white',\n",
    "    k=None,\n",
    "    legend=True,\n",
    "    figsize=(7, 3)\n",
    ")\n",
    "title = plot.set_title('Mesothelioma deaths per 100,000 people\\n(per year from 1999–2014, age-adjusted)')\n",
    "\n",
    "matplotlib.pyplot.savefig('figure/mortality.svg', bbox_inches='tight', pad_inches=0.1, transparent=True)\n",
    "matplotlib.pyplot.savefig('figure/mortality.png', bbox_inches='tight', pad_inches=0.1, transparent=True, dpi=300)"
   ]
  }
 ],
 "metadata": {
  "kernelspec": {
   "display_name": "Python [conda env:mesothelioma]",
   "language": "python",
   "name": "conda-env-mesothelioma-py"
  },
  "language_info": {
   "codemirror_mode": {
    "name": "ipython",
    "version": 3
   },
   "file_extension": ".py",
   "mimetype": "text/x-python",
   "name": "python",
   "nbconvert_exporter": "python",
   "pygments_lexer": "ipython3",
   "version": "3.6.3"
  }
 },
 "nbformat": 4,
 "nbformat_minor": 2
}
